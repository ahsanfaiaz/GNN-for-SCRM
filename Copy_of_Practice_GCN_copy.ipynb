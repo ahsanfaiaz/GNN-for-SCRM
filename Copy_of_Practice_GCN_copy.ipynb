{
 "cells": [
  {
   "cell_type": "code",
   "execution_count": null,
   "metadata": {
    "colab": {
     "base_uri": "https://localhost:8080/"
    },
    "id": "vT4pyXett5BJ",
    "outputId": "683f65e3-b78e-4918-bbae-db8f5bb897fe"
   },
   "outputs": [
    {
     "name": "stdout",
     "output_type": "stream",
     "text": [
      "Looking in indexes: https://pypi.org/simple, https://us-python.pkg.dev/colab-wheels/public/simple/\n",
      "Collecting torch-geometric\n",
      "  Downloading torch_geometric-2.3.1.tar.gz (661 kB)\n",
      "\u001b[2K     \u001b[90m━━━━━━━━━━━━━━━━━━━━━━━━━━━━━━━━━━━━━━\u001b[0m \u001b[32m661.6/661.6 kB\u001b[0m \u001b[31m12.5 MB/s\u001b[0m eta \u001b[36m0:00:00\u001b[0m\n",
      "\u001b[?25h  Installing build dependencies ... \u001b[?25l\u001b[?25hdone\n",
      "  Getting requirements to build wheel ... \u001b[?25l\u001b[?25hdone\n",
      "  Preparing metadata (pyproject.toml) ... \u001b[?25l\u001b[?25hdone\n",
      "Requirement already satisfied: tqdm in /usr/local/lib/python3.10/dist-packages (from torch-geometric) (4.65.0)\n",
      "Requirement already satisfied: numpy in /usr/local/lib/python3.10/dist-packages (from torch-geometric) (1.22.4)\n",
      "Requirement already satisfied: scipy in /usr/local/lib/python3.10/dist-packages (from torch-geometric) (1.10.1)\n",
      "Requirement already satisfied: jinja2 in /usr/local/lib/python3.10/dist-packages (from torch-geometric) (3.1.2)\n",
      "Requirement already satisfied: requests in /usr/local/lib/python3.10/dist-packages (from torch-geometric) (2.27.1)\n",
      "Requirement already satisfied: pyparsing in /usr/local/lib/python3.10/dist-packages (from torch-geometric) (3.0.9)\n",
      "Requirement already satisfied: scikit-learn in /usr/local/lib/python3.10/dist-packages (from torch-geometric) (1.2.2)\n",
      "Requirement already satisfied: psutil>=5.8.0 in /usr/local/lib/python3.10/dist-packages (from torch-geometric) (5.9.5)\n",
      "Requirement already satisfied: MarkupSafe>=2.0 in /usr/local/lib/python3.10/dist-packages (from jinja2->torch-geometric) (2.1.2)\n",
      "Requirement already satisfied: urllib3<1.27,>=1.21.1 in /usr/local/lib/python3.10/dist-packages (from requests->torch-geometric) (1.26.15)\n",
      "Requirement already satisfied: certifi>=2017.4.17 in /usr/local/lib/python3.10/dist-packages (from requests->torch-geometric) (2022.12.7)\n",
      "Requirement already satisfied: charset-normalizer~=2.0.0 in /usr/local/lib/python3.10/dist-packages (from requests->torch-geometric) (2.0.12)\n",
      "Requirement already satisfied: idna<4,>=2.5 in /usr/local/lib/python3.10/dist-packages (from requests->torch-geometric) (3.4)\n",
      "Requirement already satisfied: joblib>=1.1.1 in /usr/local/lib/python3.10/dist-packages (from scikit-learn->torch-geometric) (1.2.0)\n",
      "Requirement already satisfied: threadpoolctl>=2.0.0 in /usr/local/lib/python3.10/dist-packages (from scikit-learn->torch-geometric) (3.1.0)\n",
      "Building wheels for collected packages: torch-geometric\n",
      "  Building wheel for torch-geometric (pyproject.toml) ... \u001b[?25l\u001b[?25hdone\n",
      "  Created wheel for torch-geometric: filename=torch_geometric-2.3.1-py3-none-any.whl size=910459 sha256=5b25accece949b709577fad8b63a0471fe0ad06b3071b5bce2a3e73677aa1180\n",
      "  Stored in directory: /root/.cache/pip/wheels/ac/dc/30/e2874821ff308ee67dcd7a66dbde912411e19e35a1addda028\n",
      "Successfully built torch-geometric\n",
      "Installing collected packages: torch-geometric\n",
      "Successfully installed torch-geometric-2.3.1\n"
     ]
    }
   ],
   "source": [
    "!pip install torch-geometric"
   ]
  },
  {
   "cell_type": "code",
   "execution_count": null,
   "metadata": {
    "id": "A_Y7LZMZtoaB"
   },
   "outputs": [],
   "source": [
    "import os\n",
    "import copy\n",
    "import torch\n",
    "import warnings\n",
    "import numpy as np\n",
    "import pandas as pd\n",
    "import networkx as nx\n",
    "import seaborn as sns\n",
    "import matplotlib.pyplot as plt\n",
    "\n",
    "from sklearn.metrics import confusion_matrix, classification_report\n",
    "from sklearn.model_selection import train_test_split\n",
    "\n",
    "from torch_geometric.utils import to_networkx\n",
    "from torch_geometric.data import Data, DataLoader\n",
    "\n",
    "import torch.nn.functional as F\n",
    "from torch.nn import Linear, Dropout\n",
    "from torch_geometric.nn import GCNConv, GATv2Conv\n",
    "\n",
    "warnings.filterwarnings('ignore')"
   ]
  },
  {
   "cell_type": "code",
   "execution_count": null,
   "metadata": {
    "colab": {
     "base_uri": "https://localhost:8080/"
    },
    "id": "2wfcDgurtpUs",
    "outputId": "60086a52-be2e-4b3d-f5a2-ad88cb73d552"
   },
   "outputs": [
    {
     "name": "stdout",
     "output_type": "stream",
     "text": [
      "Using device: cpu\n"
     ]
    }
   ],
   "source": [
    "class Config:\n",
    "    seed = 0\n",
    "    learning_rate = 0.001\n",
    "    weight_decay = 1e-5\n",
    "    input_dim = 5\n",
    "    output_dim = 1\n",
    "    hidden_size = 2\n",
    "    num_epochs = 100\n",
    "    checkpoints_dir = './models/elliptic_gnn'\n",
    "    device = torch.device('cuda' if torch.cuda.is_available() else 'cpu')\n",
    "    \n",
    "print(\"Using device:\", Config.device)"
   ]
  },
  {
   "cell_type": "code",
   "execution_count": null,
   "metadata": {
    "id": "drNuUn8MuDC0"
   },
   "outputs": [],
   "source": [
    "df_features = pd.read_csv('/content/diabetes_features.csv', header=None)\n",
    "df_edges = pd.read_csv(\"/content/diabetes_edges.csv\")\n",
    "df_classes =  pd.read_csv(\"/content/diabetes_target.csv\")\n",
    "#df_classes['class'] = df_classes['class'].map({'unknown': 2, '1': 1, '2': 0})"
   ]
  },
  {
   "cell_type": "code",
   "execution_count": null,
   "metadata": {
    "id": "GaXrG06XuGMS"
   },
   "outputs": [],
   "source": [
    "# merging node features DF with classes DF\n",
    "df_merge = df_features.merge(df_classes, how='left', right_on=\"Node_id\", left_on=0)\n",
    "df_merge = df_merge.sort_values([0]).reset_index(drop=True)\n",
    "\n",
    "# extracting classified/non-classified nodes\n",
    "classified = df_merge.loc[df_merge['Outcome'].loc[df_merge['Outcome']!=2].index].drop('Node_id', axis=1)\n",
    "unclassified = df_merge.loc[df_merge['Outcome'].loc[df_merge['Outcome']==2].index].drop('Node_id', axis=1)\n",
    "\n",
    "# extracting classified/non-classified edges\n",
    "classified_edges = df_edges.loc[df_edges['Node_id'].isin(classified[0]) & df_edges['Node_id_1'].isin(classified[0])]\n",
    "unclassifed_edges = df_edges.loc[df_edges['Node_id'].isin(unclassified[0]) | df_edges['Node_id_1'].isin(unclassified[0])]"
   ]
  },
  {
   "cell_type": "code",
   "execution_count": null,
   "metadata": {
    "colab": {
     "base_uri": "https://localhost:8080/"
    },
    "id": "iZVL6Ofi1-Xi",
    "outputId": "ae616db3-deeb-4eca-9116-fb441ac498fc"
   },
   "outputs": [
    {
     "name": "stdout",
     "output_type": "stream",
     "text": [
      "Total amount of edges in DAG: torch.Size([2, 768])\n"
     ]
    }
   ],
   "source": [
    "# mapping nodes to indices\n",
    "nodes = df_merge[0].values\n",
    "map_id = {j:i for i,j in enumerate(nodes)}\n",
    "\n",
    "# mapping edges to indices\n",
    "edges = df_edges.copy()\n",
    "edges.Node_id = edges.Node_id.map(map_id)\n",
    "edges.Node_id_1 = edges.Node_id_1.map(map_id)\n",
    "edges = edges.astype(int)\n",
    "\n",
    "edge_index = np.array(edges.values).T\n",
    "edge_index = torch.tensor(edge_index, dtype=torch.long).contiguous()\n",
    "\n",
    "# weights for the edges are equal in case of model without attention\n",
    "weights = torch.tensor([1] * edge_index.shape[1] , dtype=torch.float32)\n",
    "\n",
    "print(\"Total amount of edges in DAG:\", edge_index.shape)"
   ]
  },
  {
   "cell_type": "code",
   "execution_count": null,
   "metadata": {
    "id": "Sq6l9_a72ELg"
   },
   "outputs": [],
   "source": [
    "# maping node ids to corresponding indexes\n",
    "node_features = df_merge.drop(['Node_id'], axis=1).copy()\n",
    "node_features[0] = node_features[0].map(map_id)\n",
    "\n",
    "classified_idx = node_features['Outcome'].loc[node_features['Outcome']!=2].index\n",
    "unclassified_idx = node_features['Outcome'].loc[node_features['Outcome']==2].index\n",
    "\n",
    "# replace unkown class with 0, to avoid having 3 classes, this data/labels never used in training\n",
    "node_features['Outcome'] = node_features['Outcome'].replace(2, 0) \n",
    "\n",
    "labels = node_features['Outcome'].values\n",
    "\n",
    "# drop indeces, class and temporal axes \n",
    "node_features = torch.tensor(np.array(node_features.drop([0, 'Outcome', 1], axis=1).values, dtype=np.float32), dtype=torch.float32)"
   ]
  },
  {
   "cell_type": "code",
   "execution_count": null,
   "metadata": {
    "colab": {
     "base_uri": "https://localhost:8080/"
    },
    "id": "qqxJNwZ54DaY",
    "outputId": "ce360bbb-ab91-4d22-8796-2696d3f62769"
   },
   "outputs": [
    {
     "name": "stdout",
     "output_type": "stream",
     "text": [
      "Number of nodes: 768\n",
      "Number of node features: 5\n",
      "Number of edges: 768\n",
      "Number of edge features: 5\n",
      "Average node degree: 1.00\n",
      "Number of classes: 2\n",
      "Has isolated nodes: True\n",
      "Has self loops: True\n",
      "Is directed: True\n"
     ]
    }
   ],
   "source": [
    "# converting data to PyGeometric graph data format\n",
    "elliptic_dataset = Data(x = node_features, \n",
    "                        edge_index = edge_index, \n",
    "                        edge_attr = weights,\n",
    "                        y = torch.tensor(labels, dtype=torch.float32)) \n",
    "\n",
    "print(f'Number of nodes: {elliptic_dataset.num_nodes}')\n",
    "print(f'Number of node features: {elliptic_dataset.num_features}')\n",
    "print(f'Number of edges: {elliptic_dataset.num_edges}')\n",
    "print(f'Number of edge features: {elliptic_dataset.num_features}')\n",
    "print(f'Average node degree: {elliptic_dataset.num_edges / elliptic_dataset.num_nodes:.2f}')\n",
    "print(f'Number of classes: {len(np.unique(elliptic_dataset.y))}')\n",
    "print(f'Has isolated nodes: {elliptic_dataset.has_isolated_nodes()}')\n",
    "print(f'Has self loops: {elliptic_dataset.has_self_loops()}')\n",
    "print(f'Is directed: {elliptic_dataset.is_directed()}')"
   ]
  },
  {
   "cell_type": "code",
   "execution_count": null,
   "metadata": {
    "id": "b1PNUWAM2FVn"
   },
   "outputs": [],
   "source": [
    "y_train = labels[classified_idx]\n",
    "\n",
    "# spliting train set and validation set\n",
    "_, _, _, _, train_idx, valid_idx = \\\n",
    "    train_test_split(node_features[classified_idx], \n",
    "                     y_train, \n",
    "                     classified_idx, \n",
    "                     test_size=0.15, \n",
    "                     random_state=Config.seed, \n",
    "                     stratify=y_train)"
   ]
  },
  {
   "cell_type": "code",
   "execution_count": null,
   "metadata": {
    "colab": {
     "base_uri": "https://localhost:8080/"
    },
    "id": "jpcxdrii2TfW",
    "outputId": "ec3afea7-9884-4ef9-ea66-7aabe3cf0d0e"
   },
   "outputs": [
    {
     "name": "stdout",
     "output_type": "stream",
     "text": [
      "Train dataset size: 652\n",
      "Validation dataset size: 116\n",
      "Test dataset size: 0\n"
     ]
    }
   ],
   "source": [
    "elliptic_dataset.train_idx = torch.tensor(train_idx, dtype=torch.long)\n",
    "elliptic_dataset.val_idx = torch.tensor(valid_idx, dtype=torch.long)\n",
    "elliptic_dataset.test_idx = torch.tensor(unclassified_idx, dtype=torch.long)\n",
    "\n",
    "print(\"Train dataset size:\", elliptic_dataset.train_idx.shape[0])\n",
    "print(\"Validation dataset size:\", elliptic_dataset.val_idx.shape[0])\n",
    "print(\"Test dataset size:\", elliptic_dataset.test_idx.shape[0])"
   ]
  },
  {
   "cell_type": "code",
   "execution_count": null,
   "metadata": {
    "id": "fFgKOMMq2kHu"
   },
   "outputs": [],
   "source": [
    "class GCN(torch.nn.Module):\n",
    "    \"\"\"Graph Convolutional Network\"\"\"\n",
    "    def __init__(self, dim_in, dim_h, dim_out):\n",
    "        super(GCN, self).__init__()\n",
    "        \n",
    "        self.gcn1 = GCNConv(dim_in, dim_h)\n",
    "        self.gcn2 = GCNConv(dim_h, dim_out)\n",
    "        \n",
    "    def forward(self, x, edge_index):\n",
    "        h = self.gcn1(x, edge_index)\n",
    "        h = torch.relu(h)\n",
    "        h = F.dropout(h, p=0.6, training=self.training)\n",
    "        out = self.gcn2(h, edge_index)\n",
    "        return out\n",
    "    \n",
    "class GAT(torch.nn.Module):\n",
    "    \"\"\"Graph Attention Network\"\"\"\n",
    "    def __init__(self, dim_in, dim_h, dim_out, heads=8):\n",
    "        super(GAT, self).__init__()\n",
    "        self.gat1 = GATv2Conv(dim_in, dim_h, heads=heads, dropout=0.6)\n",
    "        self.gat2 = GATv2Conv(dim_h*heads, dim_out, concat=False, heads=1, dropout=0.6)\n",
    "\n",
    "    def forward(self, x, edge_index):\n",
    "        h = F.dropout(x, p=0.6, training=self.training)\n",
    "        h = self.gat1(h, edge_index)\n",
    "        h = F.elu(h)\n",
    "        h = F.dropout(h, p=0.6, training=self.training)\n",
    "        out = self.gat2(h, edge_index)\n",
    "        return out\n",
    "    \n",
    "def accuracy(y_pred, y_test, prediction_threshold=0.5):\n",
    "    y_pred_label = (torch.sigmoid(y_pred) > prediction_threshold).float()*1\n",
    "\n",
    "    correct_results_sum = (y_pred_label == y_test).sum().float()\n",
    "    acc = correct_results_sum/y_test.shape[0]\n",
    "\n",
    "    return acc"
   ]
  },
  {
   "cell_type": "code",
   "execution_count": null,
   "metadata": {
    "id": "2behsBai2n-Y"
   },
   "outputs": [],
   "source": [
    "def train_evaluate(model, data, criterion, optimizer, *args):\n",
    "    num_epochs = args[0]\n",
    "    checkpoints_dir = args[1]\n",
    "    model_filename = args[2]\n",
    "\n",
    "    best_model_wts = copy.deepcopy(model.state_dict())\n",
    "\n",
    "    best_loss = 10e10\n",
    "\n",
    "    if not os.path.exists(checkpoints_dir):\n",
    "        os.makedirs(checkpoints_dir)\n",
    "\n",
    "    model.train()\n",
    "    for epoch in range(num_epochs+1):\n",
    "        # Training\n",
    "        optimizer.zero_grad()\n",
    "        out = model(data.x, data.edge_index)\n",
    "        loss = criterion(out[data.train_idx], data.y[data.train_idx].unsqueeze(1))\n",
    "        acc = accuracy(out[data.train_idx], data.y[data.train_idx].unsqueeze(1), prediction_threshold=0.5)\n",
    "        loss.backward()\n",
    "        optimizer.step()\n",
    "\n",
    "        # Validation\n",
    "        val_loss = criterion(out[data.val_idx], data.y[data.val_idx].unsqueeze(1))\n",
    "        val_acc = accuracy(out[data.val_idx], data.y[data.val_idx].unsqueeze(1), prediction_threshold=0.5)\n",
    "\n",
    "        if(epoch % 10 == 0):\n",
    "            print(f'Epoch {epoch:>3} | Train Loss: {loss:.3f} | Train Acc: '\n",
    "                  f'{acc*100:>6.2f}% | Val Loss: {val_loss:.2f} | '\n",
    "                  f'Val Acc: {val_acc*100:.2f}%')\n",
    "        \n",
    "            if val_loss < best_loss:\n",
    "                best_loss = val_loss\n",
    "                print(\"Saving model for best loss\")\n",
    "                checkpoint = {\n",
    "                    'state_dict': best_model_wts\n",
    "                }\n",
    "                torch.save(checkpoint, os.path.join(checkpoints_dir, model_filename))\n",
    "                best_model_wts = copy.deepcopy(model.state_dict())\n",
    "\n",
    "    return model\n",
    "\n",
    "def test(model, data):\n",
    "    model.eval()\n",
    "    out = model(data.x, data.edge_index) \n",
    "    preds = ((torch.sigmoid(out) > 0.5).float()*1).squeeze(1)\n",
    "    return preds"
   ]
  },
  {
   "cell_type": "code",
   "execution_count": null,
   "metadata": {
    "id": "vkdtUYyq2tXG"
   },
   "outputs": [],
   "source": [
    "gcn_model = GCN(Config.input_dim, Config.hidden_size, Config.output_dim).to(Config.device)\n",
    "data_train = elliptic_dataset.to(Config.device)\n",
    "\n",
    "optimizer = torch.optim.Adam(gcn_model.parameters(), lr=Config.learning_rate, weight_decay=Config.weight_decay)\n",
    "scheduler = torch.optim.lr_scheduler.ReduceLROnPlateau(optimizer, 'min')\n",
    "criterion = torch.nn.BCEWithLogitsLoss()"
   ]
  },
  {
   "cell_type": "code",
   "execution_count": null,
   "metadata": {
    "colab": {
     "base_uri": "https://localhost:8080/"
    },
    "id": "DiAYW5MJ2x3W",
    "outputId": "c426a33b-b17c-4df9-99fa-8a94d61d49e5"
   },
   "outputs": [
    {
     "name": "stdout",
     "output_type": "stream",
     "text": [
      "Epoch   0 | Train Loss: 0.858 | Train Acc:  64.72% | Val Loss: 0.78 | Val Acc: 66.38%\n",
      "Saving model for best loss\n",
      "Epoch  10 | Train Loss: 0.806 | Train Acc:  64.26% | Val Loss: 0.80 | Val Acc: 66.38%\n",
      "Epoch  20 | Train Loss: 0.717 | Train Acc:  65.03% | Val Loss: 0.85 | Val Acc: 65.52%\n",
      "Epoch  30 | Train Loss: 0.754 | Train Acc:  64.57% | Val Loss: 0.80 | Val Acc: 65.52%\n",
      "Epoch  40 | Train Loss: 0.703 | Train Acc:  65.34% | Val Loss: 0.85 | Val Acc: 65.52%\n",
      "Epoch  50 | Train Loss: 0.740 | Train Acc:  65.34% | Val Loss: 0.78 | Val Acc: 65.52%\n",
      "Saving model for best loss\n",
      "Epoch  60 | Train Loss: 0.729 | Train Acc:  64.88% | Val Loss: 0.69 | Val Acc: 66.38%\n",
      "Saving model for best loss\n",
      "Epoch  70 | Train Loss: 0.711 | Train Acc:  65.03% | Val Loss: 0.75 | Val Acc: 64.66%\n",
      "Epoch  80 | Train Loss: 0.702 | Train Acc:  65.03% | Val Loss: 0.71 | Val Acc: 65.52%\n",
      "Epoch  90 | Train Loss: 0.704 | Train Acc:  65.03% | Val Loss: 0.69 | Val Acc: 65.52%\n",
      "Saving model for best loss\n",
      "Epoch 100 | Train Loss: 0.683 | Train Acc:  65.03% | Val Loss: 0.71 | Val Acc: 64.66%\n"
     ]
    },
    {
     "data": {
      "text/plain": [
       "GCN(\n",
       "  (gcn1): GCNConv(5, 2)\n",
       "  (gcn2): GCNConv(2, 1)\n",
       ")"
      ]
     },
     "execution_count": 14,
     "metadata": {},
     "output_type": "execute_result"
    }
   ],
   "source": [
    "train_evaluate(gcn_model,\n",
    "              data_train,\n",
    "              criterion,\n",
    "              optimizer,\n",
    "              Config.num_epochs,\n",
    "              Config.checkpoints_dir,\n",
    "              'gcn_best_model.pth.tar')"
   ]
  },
  {
   "cell_type": "code",
   "execution_count": null,
   "metadata": {
    "colab": {
     "base_uri": "https://localhost:8080/",
     "height": 724
    },
    "id": "q0pv5t-Q2yzO",
    "outputId": "985f5045-5f15-4471-ae8c-4b024260b3be"
   },
   "outputs": [
    {
     "data": {
      "image/png": "[encoded data removed]",
      "text/plain": [
       "<Figure size 600x600 with 1 Axes>"
      ]
     },
     "metadata": {},
     "output_type": "display_data"
    },
    {
     "name": "stdout",
     "output_type": "stream",
     "text": [
      "              precision    recall  f1-score   support\n",
      "\n",
      "       licit       0.66      0.99      0.79        76\n",
      "     illicit       0.67      0.05      0.09        40\n",
      "\n",
      "    accuracy                           0.66       116\n",
      "   macro avg       0.67      0.52      0.44       116\n",
      "weighted avg       0.66      0.66      0.55       116\n",
      "\n"
     ]
    }
   ],
   "source": [
    "gcn_model.load_state_dict(torch.load(os.path.join(Config.checkpoints_dir, 'gcn_best_model.pth.tar'))['state_dict'])\n",
    "\n",
    "y_test_preds = test(gcn_model, data_train)\n",
    "\n",
    "# confusion matrix on validation data\n",
    "conf_mat = confusion_matrix(data_train.y[data_train.val_idx].detach().cpu().numpy(), y_test_preds[valid_idx])\n",
    "\n",
    "plt.subplots(figsize=(6,6))\n",
    "sns.set(font_scale=1.4)\n",
    "sns.heatmap(conf_mat, annot=True, fmt=\".0f\", annot_kws={\"size\": 16}, cbar=False)\n",
    "plt.xlabel('Target (true) Class'); plt.ylabel('Output (predicted) class'); plt.title('Confusion Matrix')\n",
    "plt.show();\n",
    "\n",
    "print(classification_report(data_train.y[data_train.val_idx].detach().cpu().numpy(),\n",
    "                            y_test_preds[valid_idx],\n",
    "                            target_names=['Yes', 'No']))\n",
    "\n",
    "\n",
    "#print(f\"Test data fraud cases, percentage: {y_test_preds[data_train.test_idx].detach().cpu().numpy().sum() / len(data_train.y[data_train.test_idx]) *100})"
   ]
  }
 ],
 "metadata": {
  "colab": {
   "provenance": []
  },
  "kernelspec": {
   "display_name": "Python 3 (ipykernel)",
   "language": "python",
   "name": "python3"
  },
  "language_info": {
   "codemirror_mode": {
    "name": "ipython",
    "version": 3
   },
   "file_extension": ".py",
   "mimetype": "text/x-python",
   "name": "python",
   "nbconvert_exporter": "python",
   "pygments_lexer": "ipython3",
   "version": "3.9.13"
  }
 },
 "nbformat": 4,
 "nbformat_minor": 1
}
